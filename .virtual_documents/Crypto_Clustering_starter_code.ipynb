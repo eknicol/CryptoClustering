# Import required libraries and dependencies
import pandas as pd
import hvplot.pandas
from sklearn.cluster import KMeans
from sklearn.decomposition import PCA
from sklearn.preprocessing import StandardScaler


# Load the data into a Pandas DataFrame
df_market_data = pd.read_csv(
    "Resources/crypto_market_data.csv",
    index_col="coin_id")

# Display sample data
df_market_data.head(10)


# Generate summary statistics
df_market_data.describe()


# Plot your data to see what's in your DataFrame
df_market_data.hvplot.line(
    width=800,
    height=400,
    rot=90
)








# Use the `StandardScaler()` module from scikit-learn to normalize the data from the CSV file
market_data_scaled = StandardScaler().fit_transform(df_market_data[["price_change_percentage_24h", "price_change_percentage_7d", "price_change_percentage_14d", "price_change_percentage_30d", "price_change_percentage_60d", "price_change_percentage_200d", "price_change_percentage_1y"]])



# Create a DataFrame with the scaled data
df_market_transformed = pd.DataFrame(market_data_scaled, columns=["price_change_percentage_24h", "price_change_percentage_7d", "price_change_percentage_14d", "price_change_percentage_30d", "price_change_percentage_60d", "price_change_percentage_200d", "price_change_percentage_1y"])

# Copy the crypto names from the original data
df_market_transformed["coin_id"] = df_market_data.index

# Set the coinid column as index
df_market_transformed.set_index("coin_id", inplace=True)


# Display sample data
df_market_transformed.head() 








# Create a list with the number of k-values from 1 to 11
k = list(range(1, 11))


# Create an empty list to store the inertia values
inertia = []


# Create a for loop to compute the inertia with each possible value of k
# Inside the loop:
# 1. Create a KMeans model using the loop counter for the n_clusters
# 2. Fit the model to the data using `df_market_data_scaled`
# 3. Append the model.inertia_ to the inertia list
for i in k:
    k_model = KMeans(n_clusters=i, random_state=1)
    k_model.fit(df_market_transformed)
    inertia.append(k_model.inertia_)


# Create a dictionary with the data to plot the Elbow curve
elbow_data = {"k": k, "inertia": inertia}


# Create a DataFrame with the data to plot the Elbow curve
df_elbow = pd.DataFrame(elbow_data)
df_elbow.head()


# Plot a line chart with all the inertia values computed with 
# the different values of k to visually identify the optimal value for k.
df_elbow.hvplot.line(
    x="k", 
    y="inertia", 
    title="Elbow Curve", 
    xticks=k
)











# Initialise the K-Means model using the best value for k
model = KMeans(n_clusters=4, random_state=3)



# Fit the K-Means model using the scaled data
model.fit(df_market_transformed)



# Predict the clusters to group the cryptocurrencies using the scaled data
k_3 = model.predict(df_market_transformed)


# Print the resulting array of cluster values.
print(k_3)


# Create a copy of the DataFrame
market_predictions_df = df_market_transformed.copy()



# Add a new column to the DataFrame with the predicted clusters
market_predictions_df['clusters'] = k_3

# Display sample data
market_predictions_df.head()



# Create a scatter plot using hvPlot by setting 
# `x="price_change_percentage_24h"` and `y="price_change_percentage_7d"`. 
# Colour the graph points with the labels found using K-Means and 
# add the crypto name in the `hover_cols` parameter to identify 
# the cryptocurrency represented by each data point.
market_predictions_df.hvplot.scatter(
    x="price_change_percentage_24h",
    y="price_change_percentage_7d",
    by="clusters",  
    hover_cols=["coin_id"] 
)








# Create a PCA model instance and set `n_components=3`.
pca = PCA(n_components=3)


# Use the PCA model with `fit_transform` to reduce to 
# three principal components.
market_data_pca = pca.fit_transform(market_predictions_df)

# View the first five rows of the DataFrame. 
market_data_pca[:5]


# Retrieve the explained variance to determine how much information 
# can be attributed to each principal component.
pca.explained_variance_ratio_






# Create a new DataFrame with the PCA data.
df_market_data_pca = pd.DataFrame(
    market_data_pca,
    columns=["PCA1", "PCA2", "PCA3"],
)

# Set the coinid column as index
df_market_data_pca.index = market_predictions_df.index


# Display sample data
df_market_data_pca.head()









# Create a list with the number of k-values from 1 to 11
k = list(range(1, 11))


# Create an empty list to store the inertia values
inertia = []


# Create a for loop to compute the inertia with each possible value of k
# Inside the loop:
# 1. Create a KMeans model using the loop counter for the n_clusters
# 2. Fit the model to the data using `df_market_data_pca`
# 3. Append the model.inertia_ to the inertia list
for i in k:
    k_model = KMeans(n_clusters=i, random_state=1)
    k_model.fit(df_market_data_pca)
    inertia.append(k_model.inertia_)


# Create a dictionary with the data to plot the Elbow curve
elbow_data_pca = {"k": k, "inertia": inertia}

# Create a DataFrame with the data to plot the Elbow curve
df_elbow_pca = pd.DataFrame(elbow_data_pca)
df_elbow_pca.head()


# Plot a line chart with all the inertia values computed with 
# the different values of k to visually identify the optimal value for k.
df_elbow_pca.hvplot.line(
    x="k", 
    y="inertia", 
    title="Elbow Curve", 
    xticks=k
)








# Initialise the K-Means model using the best value for k
model = KMeans(n_clusters=4, random_state=3)



# Fit the K-Means model using the PCA data
model.fit(df_market_data_pca)



# Predict the clusters to group the cryptocurrencies using the PCA data
k_3 = model.predict(df_market_data_pca)

# Print the resulting array of cluster values.
print(k_3)


# Create a copy of the DataFrame with the PCA data
df_market_data_pca = df_market_data_pca.copy()

# Add a new column to the DataFrame with the predicted clusters
df_market_data_pca['clusters'] = k_3


# Display sample data
df_market_data_pca.head()



# Create a scatter plot using hvPlot by setting 
# `x="PC1"` and `y="PC2"`. 
# Colour the graph points with the labels found using K-Means and 
# add the crypto name in the `hover_cols` parameter to identify 
# the cryptocurrency represented by each data point.
df_market_data_pca.hvplot.scatter(
    x="PCA1",
    y="PCA2",
    by="clusters",  
    hover_cols=["coin_id"] 
)





# Composite plot to contrast the Elbow curves
import matplotlib.pyplot as plt

# Create subplots for the Elbow curves
fig, (ax1, ax2) = plt.subplots(1, 2, figsize=(12, 6))

# Plot the Elbow curve for the original data
ax1.plot(df_elbow['k'], df_elbow['inertia'], marker='o', color='b')
ax1.set_title('Elbow Curve - Original Data')
ax1.set_xlabel('Number of Clusters (k)')
ax1.set_ylabel('Inertia')

# Plot the Elbow curve for the PCA data
ax2.plot(df_elbow_pca['k'], df_elbow_pca['inertia'], marker='o', color='r')
ax2.set_title('Elbow Curve - PCA Data')
ax2.set_xlabel('Number of Clusters (k)')
ax2.set_ylabel('Inertia')

plt.tight_layout()
plt.show()


# Composite plot to contrast the clusters
# Create subplots for contrasting the clusters
fig, (ax1, ax2) = plt.subplots(1, 2, figsize=(12, 6))

# Plot the clusters for the original data
ax1.scatter(market_predictions_df['price_change_percentage_24h'], market_predictions_df['price_change_percentage_7d'], c=market_predictions_df['clusters'], cmap='viridis')
ax1.set_title('Clusters - Original Data')
ax1.set_xlabel('price_change_percentage_24h')
ax1.set_ylabel('price_change_percentage_7d')

# Plot the clusters for the PCA data
ax2.scatter(df_market_data_pca['PCA1'], df_market_data_pca['PCA2'], c=df_market_data_pca['clusters'], cmap='viridis')
ax2.set_title('Clusters - PCA Data')
ax2.set_xlabel('PCA1')
ax2.set_ylabel('PCA2')

plt.tight_layout()
plt.show()



